{
 "cells": [
  {
   "cell_type": "markdown",
   "id": "7ff27c91-3d4a-4518-aa89-e7b6f5ff9f49",
   "metadata": {},
   "source": [
    "## 2) Test using Shapiro-Wilk normality test the Ethereum returns for trading data every five minutes, from August 7, 2015 to April 15, 2024."
   ]
  },
  {
   "cell_type": "code",
   "execution_count": 11,
   "id": "5d53097d-6764-4bfb-818d-6a981fdc1cae",
   "metadata": {},
   "outputs": [],
   "source": [
    "import pandas as pd\n",
    "from scipy.stats import shapiro"
   ]
  },
  {
   "cell_type": "code",
   "execution_count": 12,
   "id": "f8e98441-887a-46ce-a076-54025e0233a5",
   "metadata": {},
   "outputs": [],
   "source": [
    "file_path = r'raw data\\ETH_1min.csv'\n",
    "df = pd.read_csv(file_path)"
   ]
  },
  {
   "cell_type": "code",
   "execution_count": 13,
   "id": "1f312044-0f4f-4338-b4a5-040a984f99eb",
   "metadata": {},
   "outputs": [
    {
     "data": {
      "text/html": [
       "<div>\n",
       "<style scoped>\n",
       "    .dataframe tbody tr th:only-of-type {\n",
       "        vertical-align: middle;\n",
       "    }\n",
       "\n",
       "    .dataframe tbody tr th {\n",
       "        vertical-align: top;\n",
       "    }\n",
       "\n",
       "    .dataframe thead th {\n",
       "        text-align: right;\n",
       "    }\n",
       "</style>\n",
       "<table border=\"1\" class=\"dataframe\">\n",
       "  <thead>\n",
       "    <tr style=\"text-align: right;\">\n",
       "      <th></th>\n",
       "      <th>Unix Timestamp</th>\n",
       "      <th>Date</th>\n",
       "      <th>Symbol</th>\n",
       "      <th>Open</th>\n",
       "      <th>High</th>\n",
       "      <th>Low</th>\n",
       "      <th>Close</th>\n",
       "      <th>Volume</th>\n",
       "    </tr>\n",
       "  </thead>\n",
       "  <tbody>\n",
       "    <tr>\n",
       "      <th>0</th>\n",
       "      <td>1586995200000</td>\n",
       "      <td>2020-04-16 00:00:00</td>\n",
       "      <td>ETHUSD</td>\n",
       "      <td>152.94</td>\n",
       "      <td>152.94</td>\n",
       "      <td>151.33</td>\n",
       "      <td>151.33</td>\n",
       "      <td>112.724931</td>\n",
       "    </tr>\n",
       "    <tr>\n",
       "      <th>1</th>\n",
       "      <td>1586995140000</td>\n",
       "      <td>2020-04-15 23:59:00</td>\n",
       "      <td>ETHUSD</td>\n",
       "      <td>152.94</td>\n",
       "      <td>152.94</td>\n",
       "      <td>152.94</td>\n",
       "      <td>152.94</td>\n",
       "      <td>0.000000</td>\n",
       "    </tr>\n",
       "    <tr>\n",
       "      <th>2</th>\n",
       "      <td>1586995080000</td>\n",
       "      <td>2020-04-15 23:58:00</td>\n",
       "      <td>ETHUSD</td>\n",
       "      <td>153.17</td>\n",
       "      <td>153.17</td>\n",
       "      <td>152.94</td>\n",
       "      <td>152.94</td>\n",
       "      <td>0.013011</td>\n",
       "    </tr>\n",
       "    <tr>\n",
       "      <th>3</th>\n",
       "      <td>1586995020000</td>\n",
       "      <td>2020-04-15 23:57:00</td>\n",
       "      <td>ETHUSD</td>\n",
       "      <td>152.96</td>\n",
       "      <td>153.20</td>\n",
       "      <td>152.96</td>\n",
       "      <td>153.17</td>\n",
       "      <td>466.782278</td>\n",
       "    </tr>\n",
       "    <tr>\n",
       "      <th>4</th>\n",
       "      <td>1586994960000</td>\n",
       "      <td>2020-04-15 23:56:00</td>\n",
       "      <td>ETHUSD</td>\n",
       "      <td>153.14</td>\n",
       "      <td>153.14</td>\n",
       "      <td>152.96</td>\n",
       "      <td>152.96</td>\n",
       "      <td>167.930714</td>\n",
       "    </tr>\n",
       "    <tr>\n",
       "      <th>...</th>\n",
       "      <td>...</td>\n",
       "      <td>...</td>\n",
       "      <td>...</td>\n",
       "      <td>...</td>\n",
       "      <td>...</td>\n",
       "      <td>...</td>\n",
       "      <td>...</td>\n",
       "      <td>...</td>\n",
       "    </tr>\n",
       "    <tr>\n",
       "      <th>1984007</th>\n",
       "      <td>1462800960</td>\n",
       "      <td>2016-05-09 13:36:00</td>\n",
       "      <td>ETHUSD</td>\n",
       "      <td>10.00</td>\n",
       "      <td>10.00</td>\n",
       "      <td>10.00</td>\n",
       "      <td>10.00</td>\n",
       "      <td>0.375000</td>\n",
       "    </tr>\n",
       "    <tr>\n",
       "      <th>1984008</th>\n",
       "      <td>1462800900</td>\n",
       "      <td>2016-05-09 13:35:00</td>\n",
       "      <td>ETHUSD</td>\n",
       "      <td>10.00</td>\n",
       "      <td>10.00</td>\n",
       "      <td>10.00</td>\n",
       "      <td>10.00</td>\n",
       "      <td>60.000000</td>\n",
       "    </tr>\n",
       "    <tr>\n",
       "      <th>1984009</th>\n",
       "      <td>1462800840</td>\n",
       "      <td>2016-05-09 13:34:00</td>\n",
       "      <td>ETHUSD</td>\n",
       "      <td>10.00</td>\n",
       "      <td>10.00</td>\n",
       "      <td>10.00</td>\n",
       "      <td>10.00</td>\n",
       "      <td>8.000000</td>\n",
       "    </tr>\n",
       "    <tr>\n",
       "      <th>1984010</th>\n",
       "      <td>1462800780</td>\n",
       "      <td>2016-05-09 13:33:00</td>\n",
       "      <td>ETHUSD</td>\n",
       "      <td>12.00</td>\n",
       "      <td>12.00</td>\n",
       "      <td>10.00</td>\n",
       "      <td>10.00</td>\n",
       "      <td>43.497506</td>\n",
       "    </tr>\n",
       "    <tr>\n",
       "      <th>1984011</th>\n",
       "      <td>1462800720</td>\n",
       "      <td>2016-05-09 13:32:00</td>\n",
       "      <td>ETHUSD</td>\n",
       "      <td>0.00</td>\n",
       "      <td>12.00</td>\n",
       "      <td>0.00</td>\n",
       "      <td>12.00</td>\n",
       "      <td>4.156276</td>\n",
       "    </tr>\n",
       "  </tbody>\n",
       "</table>\n",
       "<p>1984012 rows × 8 columns</p>\n",
       "</div>"
      ],
      "text/plain": [
       "         Unix Timestamp                 Date  Symbol    Open    High     Low  \\\n",
       "0         1586995200000  2020-04-16 00:00:00  ETHUSD  152.94  152.94  151.33   \n",
       "1         1586995140000  2020-04-15 23:59:00  ETHUSD  152.94  152.94  152.94   \n",
       "2         1586995080000  2020-04-15 23:58:00  ETHUSD  153.17  153.17  152.94   \n",
       "3         1586995020000  2020-04-15 23:57:00  ETHUSD  152.96  153.20  152.96   \n",
       "4         1586994960000  2020-04-15 23:56:00  ETHUSD  153.14  153.14  152.96   \n",
       "...                 ...                  ...     ...     ...     ...     ...   \n",
       "1984007      1462800960  2016-05-09 13:36:00  ETHUSD   10.00   10.00   10.00   \n",
       "1984008      1462800900  2016-05-09 13:35:00  ETHUSD   10.00   10.00   10.00   \n",
       "1984009      1462800840  2016-05-09 13:34:00  ETHUSD   10.00   10.00   10.00   \n",
       "1984010      1462800780  2016-05-09 13:33:00  ETHUSD   12.00   12.00   10.00   \n",
       "1984011      1462800720  2016-05-09 13:32:00  ETHUSD    0.00   12.00    0.00   \n",
       "\n",
       "          Close      Volume  \n",
       "0        151.33  112.724931  \n",
       "1        152.94    0.000000  \n",
       "2        152.94    0.013011  \n",
       "3        153.17  466.782278  \n",
       "4        152.96  167.930714  \n",
       "...         ...         ...  \n",
       "1984007   10.00    0.375000  \n",
       "1984008   10.00   60.000000  \n",
       "1984009   10.00    8.000000  \n",
       "1984010   10.00   43.497506  \n",
       "1984011   12.00    4.156276  \n",
       "\n",
       "[1984012 rows x 8 columns]"
      ]
     },
     "execution_count": 13,
     "metadata": {},
     "output_type": "execute_result"
    }
   ],
   "source": [
    "df"
   ]
  },
  {
   "cell_type": "code",
   "execution_count": 14,
   "id": "85b1aebb-9ee7-4b6d-99b7-ab63d9cd2874",
   "metadata": {},
   "outputs": [
    {
     "name": "stdout",
     "output_type": "stream",
     "text": [
      "   Unix Timestamp                 Date  Symbol    Open    High     Low  \\\n",
      "0   1586995200000  2020-04-16 00:00:00  ETHUSD  152.94  152.94  151.33   \n",
      "1   1586995140000  2020-04-15 23:59:00  ETHUSD  152.94  152.94  152.94   \n",
      "2   1586995080000  2020-04-15 23:58:00  ETHUSD  153.17  153.17  152.94   \n",
      "3   1586995020000  2020-04-15 23:57:00  ETHUSD  152.96  153.20  152.96   \n",
      "4   1586994960000  2020-04-15 23:56:00  ETHUSD  153.14  153.14  152.96   \n",
      "\n",
      "    Close      Volume  \n",
      "0  151.33  112.724931  \n",
      "1  152.94    0.000000  \n",
      "2  152.94    0.013011  \n",
      "3  153.17  466.782278  \n",
      "4  152.96  167.930714  \n"
     ]
    }
   ],
   "source": [
    "print(df.head())"
   ]
  },
  {
   "cell_type": "code",
   "execution_count": 15,
   "id": "ea98d73a-36ea-49ed-84d4-7e14f30f03fa",
   "metadata": {},
   "outputs": [
    {
     "name": "stdout",
     "output_type": "stream",
     "text": [
      "         Unix Timestamp                 Date  Symbol  Open  High   Low  Close  \\\n",
      "1984007      1462800960  2016-05-09 13:36:00  ETHUSD  10.0  10.0  10.0   10.0   \n",
      "1984008      1462800900  2016-05-09 13:35:00  ETHUSD  10.0  10.0  10.0   10.0   \n",
      "1984009      1462800840  2016-05-09 13:34:00  ETHUSD  10.0  10.0  10.0   10.0   \n",
      "1984010      1462800780  2016-05-09 13:33:00  ETHUSD  12.0  12.0  10.0   10.0   \n",
      "1984011      1462800720  2016-05-09 13:32:00  ETHUSD   0.0  12.0   0.0   12.0   \n",
      "\n",
      "            Volume  \n",
      "1984007   0.375000  \n",
      "1984008  60.000000  \n",
      "1984009   8.000000  \n",
      "1984010  43.497506  \n",
      "1984011   4.156276  \n"
     ]
    }
   ],
   "source": [
    "print(df.tail())"
   ]
  },
  {
   "cell_type": "code",
   "execution_count": 16,
   "id": "87f5219b-dfb7-4fac-8443-404c2a62cc0b",
   "metadata": {},
   "outputs": [],
   "source": [
    "df['Date'] = pd.to_datetime(df['Date'])\n",
    "df.set_index('Date', inplace=True)\n",
    "\n",
    "# Resample data to 5-minute intervals using the mean of 'Close'\n",
    "five_min_data = df['Close'].resample('5min').mean()"
   ]
  },
  {
   "cell_type": "code",
   "execution_count": 17,
   "id": "8c5c503d-162b-4bca-b4e6-e5226d43c279",
   "metadata": {},
   "outputs": [],
   "source": [
    "returns = five_min_data.pct_change(fill_method=None).dropna()"
   ]
  },
  {
   "cell_type": "code",
   "execution_count": 18,
   "id": "cbff0739-0ca8-46d6-bc35-d58b98fb97ab",
   "metadata": {},
   "outputs": [
    {
     "name": "stdout",
     "output_type": "stream",
     "text": [
      "Shapiro-Wilk test statistic: 0.5677262056811241\n",
      "p-value: 3.3156783192513663e-189\n"
     ]
    },
    {
     "name": "stderr",
     "output_type": "stream",
     "text": [
      "C:\\Users\\USER\\AppData\\Local\\Programs\\Python\\Python312\\Lib\\site-packages\\scipy\\stats\\_axis_nan_policy.py:531: UserWarning: scipy.stats.shapiro: For N > 5000, computed p-value may not be accurate. Current N is 396800.\n",
      "  res = hypotest_fun_out(*samples, **kwds)\n"
     ]
    }
   ],
   "source": [
    "shapiro_test = shapiro(returns)\n",
    "\n",
    "# Print the results\n",
    "print(\"Shapiro-Wilk test statistic:\", shapiro_test.statistic)\n",
    "print(\"p-value:\", shapiro_test.pvalue)"
   ]
  },
  {
   "cell_type": "markdown",
   "id": "99fd874c-6b6f-4573-8b48-fa8461de4550",
   "metadata": {},
   "source": [
    "### Considering Alternatives - Histogram and Q-Q Plot"
   ]
  },
  {
   "cell_type": "markdown",
   "id": "1cd53145-9b0d-44d7-82cd-f93040c034d6",
   "metadata": {},
   "source": [
    "#### Histogram"
   ]
  },
  {
   "cell_type": "code",
   "execution_count": 21,
   "id": "b77c57b5-44f8-404a-8a05-eb76e569914c",
   "metadata": {},
   "outputs": [],
   "source": [
    "import matplotlib.pyplot as plt\n",
    "import scipy.stats as stats"
   ]
  },
  {
   "cell_type": "code",
   "execution_count": 22,
   "id": "0acf2dc9-db97-405b-80c4-4d8962b925f5",
   "metadata": {},
   "outputs": [
    {
     "data": {
      "text/plain": [
       "Text(0.5, 1.0, 'Histogram of Returns')"
      ]
     },
     "execution_count": 22,
     "metadata": {},
     "output_type": "execute_result"
    },
    {
     "data": {
      "image/png": "[encoded data removed]",
      "text/plain": [
       "<Figure size 1200x600 with 1 Axes>"
      ]
     },
     "metadata": {},
     "output_type": "display_data"
    }
   ],
   "source": [
    "plt.figure(figsize=(12, 6))\n",
    "plt.subplot(121)\n",
    "plt.hist(returns, bins=50, alpha=0.75, color='blue')\n",
    "plt.title('Histogram of Returns')"
   ]
  },
  {
   "cell_type": "markdown",
   "id": "3126c5c1-2b60-4797-9b03-73ad6398bd93",
   "metadata": {},
   "source": [
    "#### Q-Q Plot"
   ]
  },
  {
   "cell_type": "code",
   "execution_count": 23,
   "id": "7010252d-6ab8-4d4e-b604-db8c1eac4639",
   "metadata": {},
   "outputs": [
    {
     "data": {
      "image/png": "[encoded data removed]",
      "text/plain": [
       "<Figure size 640x480 with 1 Axes>"
      ]
     },
     "metadata": {},
     "output_type": "display_data"
    }
   ],
   "source": [
    "plt.subplot(122)\n",
    "stats.probplot(returns, dist=\"norm\", plot=plt)\n",
    "plt.title('Q-Q Plot')\n",
    "\n",
    "plt.tight_layout()\n",
    "plt.show()"
   ]
  },
  {
   "cell_type": "code",
   "execution_count": null,
   "id": "6648f3d6-722a-4013-b42d-0da7d4baddf8",
   "metadata": {},
   "outputs": [],
   "source": []
  }
 ],
 "metadata": {
  "kernelspec": {
   "display_name": "Python 3 (ipykernel)",
   "language": "python",
   "name": "python3"
  },
  "language_info": {
   "codemirror_mode": {
    "name": "ipython",
    "version": 3
   },
   "file_extension": ".py",
   "mimetype": "text/x-python",
   "name": "python",
   "nbconvert_exporter": "python",
   "pygments_lexer": "ipython3",
   "version": "3.12.1"
  }
 },
 "nbformat": 4,
 "nbformat_minor": 5
}
