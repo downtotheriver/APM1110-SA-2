{
 "cells": [
  {
   "cell_type": "markdown",
   "id": "b10c742a-51a7-43d2-8792-9aa5cfaf0c44",
   "metadata": {},
   "source": [
    "## Summative Assesment 1 Ramilo and Dacanay"
   ]
  },
  {
   "cell_type": "markdown",
   "id": "9dcc67c5-6b48-486d-a290-ca1640f13bcc",
   "metadata": {},
   "source": [
    "1. Find out which probability distribution function best fits Bitcoin’s returns for trading data every minute, from January 1, 2012 to April 15, 2024, for Bitcoin quoted in United States dollars or the BTC/USD pair."
   ]
  },
  {
   "cell_type": "markdown",
   "id": "78bec832-4dfc-4d84-af45-43a01de3e1c8",
   "metadata": {},
   "source": [
    "Gather Bitcoin OHLCV data from January 1, 2012 - April 15, 2024"
   ]
  },
  {
   "cell_type": "code",
   "execution_count": 113,
   "id": "6efcd0d5-0698-4b58-9f36-4eacc055541a",
   "metadata": {},
   "outputs": [],
   "source": [
    "# import requests\n",
    "# import json\n",
    "# import pandas as pd\n",
    "# import datetime as dt\n",
    "# import time\n",
    "# import multiprocessing\n",
    "# import os\n",
    "\n",
    "# def request_BTCDataPerYear(start,end,symbol):\n",
    "#     dates = pd.date_range(start=start,end=end)\n",
    "#     dates = [int(x.value/(10**9)) for x in list(dates)]\n",
    "#     year = str(pd.to_datetime(dates[0], unit='s'))[:4]\n",
    "\n",
    "#     filename = f\"BTCUSD-{year}.csv\"\n",
    "\n",
    "#     if os.path.exists(filename):\n",
    "#         os.remove(filename)\n",
    "        \n",
    "#     df = pd.DataFrame(columns=[\"timestamp\",\"open\", \"high\", \"low\", \"close\", \"volume\"])\n",
    "#     df.to_csv(filename,header=True,index=False)\n",
    "\n",
    "#     for first,last in zip(dates,dates[1:]):\n",
    "#         print(first,last)\n",
    "#         parameters = {\n",
    "#             \"step\":300,\n",
    "#             \"limit\":1000,\n",
    "#             \"start\":first,\n",
    "#             \"end\":last\n",
    "#         }\n",
    "#         if(len(df) % 10_000 == 0):\n",
    "#             time.sleep(60*10)\n",
    "#         url = f\"https://www.bitstamp.net/api/v2/ohlc/{symbol}/\"\n",
    "#         request = requests.get(url=url,params=parameters).json()[\"data\"][\"ohlc\"]\n",
    "\n",
    "#         temp_df = pd.DataFrame(request)\n",
    "#         temp_df = temp_df.drop_duplicates()\n",
    "#         temp_df[\"timestamp\"] = temp_df[\"timestamp\"].astype(int)\n",
    "#         temp_df = temp_df[temp_df[\"timestamp\"] >= dates[0]]\n",
    "#         temp_df = temp_df[temp_df[\"timestamp\"] < dates[-1]]\n",
    "#         temp_df[\"timestamp\"] = pd.to_datetime(temp_df[\"timestamp\"], unit='s')\n",
    "\n",
    "#         df = pd.concat([df, temp_df], ignore_index=True)\n",
    "#         print(df)\n",
    "    \n",
    "#     df.to_csv(filename, index=False)    \n",
    "#     return(df)\n",
    "\n",
    "# datepoints = [f\"{year}-01-01\" for year in range(2021,2025)]#+[\"2024-04-16\"] #interval of 3 years\n",
    "# datepoints = zip(datepoints,datepoints[1:])\n",
    "# symbol = \"btcusd\"\n",
    "# datepoints = [(\"2015-01-01\",\"2016-01-01\")]\n",
    "# # request_BTCDataPerYear(\"2015-01-01\",\"2016-01-01\",symbol)\n",
    "# processes = []\n",
    "\n",
    "# for start,end in datepoints:\n",
    "#     p = multiprocessing.Process(target=request_BTCDataPerYear,args=[start,end,symbol])\n",
    "#     if __name__ == \"__main__\":\n",
    "#         p.start()\n",
    "#         processes.append(p)\n",
    "# for p in processes:\n",
    "#     p.join()\n"
   ]
  },
  {
   "cell_type": "markdown",
   "id": "6e3e15ac-7c07-4e40-920a-387b23d20a63",
   "metadata": {},
   "source": [
    "Join and Analyze Bitcoin Return Data."
   ]
  },
  {
   "cell_type": "code",
   "execution_count": 112,
   "id": "d66b7364-e91a-480e-9388-078025153480",
   "metadata": {},
   "outputs": [],
   "source": [
    "import pandas as pd\n",
    "import matplotlib.pyplot as plt\n",
    "import os\n",
    "import numpy as np\n",
    "import scipy.stats as stats"
   ]
  },
  {
   "cell_type": "code",
   "execution_count": 9,
   "id": "9f5b1f3c-0f05-4697-b9a2-595781108968",
   "metadata": {},
   "outputs": [
    {
     "data": {
      "text/plain": [
       "(4472490, 6)"
      ]
     },
     "execution_count": 9,
     "metadata": {},
     "output_type": "execute_result"
    }
   ],
   "source": [
    "folder_BTCUSD_path = \"BTCUSD\"\n",
    "BTCUSD_files = os.listdir(folder_BTCUSD_path)\n",
    "BTCUSD_files = [pd.read_csv(folder_BTCUSD_path+\"/\"+x) for x in BTCUSD_files]\n",
    "BTCUSD_df = pd.concat(BTCUSD_files,ignore_index = True)\n",
    "\n",
    "BTCUSD_df.shape"
   ]
  },
  {
   "cell_type": "code",
   "execution_count": 10,
   "id": "d117e5b4-af5a-4efb-af7e-792a245049f5",
   "metadata": {},
   "outputs": [
    {
     "data": {
      "text/html": [
       "<div>\n",
       "<style scoped>\n",
       "    .dataframe tbody tr th:only-of-type {\n",
       "        vertical-align: middle;\n",
       "    }\n",
       "\n",
       "    .dataframe tbody tr th {\n",
       "        vertical-align: top;\n",
       "    }\n",
       "\n",
       "    .dataframe thead th {\n",
       "        text-align: right;\n",
       "    }\n",
       "</style>\n",
       "<table border=\"1\" class=\"dataframe\">\n",
       "  <thead>\n",
       "    <tr style=\"text-align: right;\">\n",
       "      <th></th>\n",
       "      <th>timestamp</th>\n",
       "      <th>open</th>\n",
       "      <th>high</th>\n",
       "      <th>low</th>\n",
       "      <th>close</th>\n",
       "      <th>volume</th>\n",
       "    </tr>\n",
       "  </thead>\n",
       "  <tbody>\n",
       "    <tr>\n",
       "      <th>0</th>\n",
       "      <td>2012-01-01 00:00:00</td>\n",
       "      <td>4.58</td>\n",
       "      <td>4.58</td>\n",
       "      <td>4.58</td>\n",
       "      <td>4.58</td>\n",
       "      <td>0.0</td>\n",
       "    </tr>\n",
       "    <tr>\n",
       "      <th>1</th>\n",
       "      <td>2012-01-01 00:05:00</td>\n",
       "      <td>4.58</td>\n",
       "      <td>4.58</td>\n",
       "      <td>4.58</td>\n",
       "      <td>4.58</td>\n",
       "      <td>0.0</td>\n",
       "    </tr>\n",
       "    <tr>\n",
       "      <th>2</th>\n",
       "      <td>2012-01-01 00:10:00</td>\n",
       "      <td>4.58</td>\n",
       "      <td>4.58</td>\n",
       "      <td>4.58</td>\n",
       "      <td>4.58</td>\n",
       "      <td>0.0</td>\n",
       "    </tr>\n",
       "    <tr>\n",
       "      <th>3</th>\n",
       "      <td>2012-01-01 00:15:00</td>\n",
       "      <td>4.58</td>\n",
       "      <td>4.58</td>\n",
       "      <td>4.58</td>\n",
       "      <td>4.58</td>\n",
       "      <td>0.0</td>\n",
       "    </tr>\n",
       "    <tr>\n",
       "      <th>4</th>\n",
       "      <td>2012-01-01 00:20:00</td>\n",
       "      <td>4.58</td>\n",
       "      <td>4.58</td>\n",
       "      <td>4.58</td>\n",
       "      <td>4.58</td>\n",
       "      <td>0.0</td>\n",
       "    </tr>\n",
       "  </tbody>\n",
       "</table>\n",
       "</div>"
      ],
      "text/plain": [
       "             timestamp  open  high   low  close  volume\n",
       "0  2012-01-01 00:00:00  4.58  4.58  4.58   4.58     0.0\n",
       "1  2012-01-01 00:05:00  4.58  4.58  4.58   4.58     0.0\n",
       "2  2012-01-01 00:10:00  4.58  4.58  4.58   4.58     0.0\n",
       "3  2012-01-01 00:15:00  4.58  4.58  4.58   4.58     0.0\n",
       "4  2012-01-01 00:20:00  4.58  4.58  4.58   4.58     0.0"
      ]
     },
     "execution_count": 10,
     "metadata": {},
     "output_type": "execute_result"
    }
   ],
   "source": [
    "BTCUSD_df.head()"
   ]
  },
  {
   "cell_type": "code",
   "execution_count": 13,
   "id": "0a4ab983-7c89-4582-8714-6e68f76c0350",
   "metadata": {},
   "outputs": [
    {
     "name": "stdout",
     "output_type": "stream",
     "text": [
      "<class 'pandas.core.frame.DataFrame'>\n",
      "RangeIndex: 4472490 entries, 0 to 4472489\n",
      "Data columns (total 6 columns):\n",
      " #   Column     Dtype  \n",
      "---  ------     -----  \n",
      " 0   timestamp  object \n",
      " 1   open       float64\n",
      " 2   high       float64\n",
      " 3   low        float64\n",
      " 4   close      float64\n",
      " 5   volume     float64\n",
      "dtypes: float64(5), object(1)\n",
      "memory usage: 204.7+ MB\n"
     ]
    }
   ],
   "source": [
    "BTCUSD_df.info()"
   ]
  },
  {
   "cell_type": "code",
   "execution_count": 53,
   "id": "d0831718-d1ff-4c3a-bab0-83c0e33f9b51",
   "metadata": {},
   "outputs": [
    {
     "data": {
      "text/html": [
       "<div>\n",
       "<style scoped>\n",
       "    .dataframe tbody tr th:only-of-type {\n",
       "        vertical-align: middle;\n",
       "    }\n",
       "\n",
       "    .dataframe tbody tr th {\n",
       "        vertical-align: top;\n",
       "    }\n",
       "\n",
       "    .dataframe thead th {\n",
       "        text-align: right;\n",
       "    }\n",
       "</style>\n",
       "<table border=\"1\" class=\"dataframe\">\n",
       "  <thead>\n",
       "    <tr style=\"text-align: right;\">\n",
       "      <th></th>\n",
       "      <th>timestamp</th>\n",
       "      <th>open</th>\n",
       "      <th>high</th>\n",
       "      <th>low</th>\n",
       "      <th>close</th>\n",
       "      <th>volume</th>\n",
       "      <th>returns</th>\n",
       "    </tr>\n",
       "  </thead>\n",
       "  <tbody>\n",
       "    <tr>\n",
       "      <th>0</th>\n",
       "      <td>2012-01-01 00:00:00</td>\n",
       "      <td>4.58</td>\n",
       "      <td>4.58</td>\n",
       "      <td>4.58</td>\n",
       "      <td>4.58</td>\n",
       "      <td>0.0</td>\n",
       "      <td>0.0</td>\n",
       "    </tr>\n",
       "    <tr>\n",
       "      <th>1</th>\n",
       "      <td>2012-01-01 00:05:00</td>\n",
       "      <td>4.58</td>\n",
       "      <td>4.58</td>\n",
       "      <td>4.58</td>\n",
       "      <td>4.58</td>\n",
       "      <td>0.0</td>\n",
       "      <td>0.0</td>\n",
       "    </tr>\n",
       "    <tr>\n",
       "      <th>2</th>\n",
       "      <td>2012-01-01 00:10:00</td>\n",
       "      <td>4.58</td>\n",
       "      <td>4.58</td>\n",
       "      <td>4.58</td>\n",
       "      <td>4.58</td>\n",
       "      <td>0.0</td>\n",
       "      <td>0.0</td>\n",
       "    </tr>\n",
       "    <tr>\n",
       "      <th>3</th>\n",
       "      <td>2012-01-01 00:15:00</td>\n",
       "      <td>4.58</td>\n",
       "      <td>4.58</td>\n",
       "      <td>4.58</td>\n",
       "      <td>4.58</td>\n",
       "      <td>0.0</td>\n",
       "      <td>0.0</td>\n",
       "    </tr>\n",
       "    <tr>\n",
       "      <th>4</th>\n",
       "      <td>2012-01-01 00:20:00</td>\n",
       "      <td>4.58</td>\n",
       "      <td>4.58</td>\n",
       "      <td>4.58</td>\n",
       "      <td>4.58</td>\n",
       "      <td>0.0</td>\n",
       "      <td>0.0</td>\n",
       "    </tr>\n",
       "  </tbody>\n",
       "</table>\n",
       "</div>"
      ],
      "text/plain": [
       "             timestamp  open  high   low  close  volume  returns\n",
       "0  2012-01-01 00:00:00  4.58  4.58  4.58   4.58     0.0      0.0\n",
       "1  2012-01-01 00:05:00  4.58  4.58  4.58   4.58     0.0      0.0\n",
       "2  2012-01-01 00:10:00  4.58  4.58  4.58   4.58     0.0      0.0\n",
       "3  2012-01-01 00:15:00  4.58  4.58  4.58   4.58     0.0      0.0\n",
       "4  2012-01-01 00:20:00  4.58  4.58  4.58   4.58     0.0      0.0"
      ]
     },
     "metadata": {},
     "output_type": "display_data"
    },
    {
     "data": {
      "text/html": [
       "<div>\n",
       "<style scoped>\n",
       "    .dataframe tbody tr th:only-of-type {\n",
       "        vertical-align: middle;\n",
       "    }\n",
       "\n",
       "    .dataframe tbody tr th {\n",
       "        vertical-align: top;\n",
       "    }\n",
       "\n",
       "    .dataframe thead th {\n",
       "        text-align: right;\n",
       "    }\n",
       "</style>\n",
       "<table border=\"1\" class=\"dataframe\">\n",
       "  <thead>\n",
       "    <tr style=\"text-align: right;\">\n",
       "      <th></th>\n",
       "      <th>timestamp</th>\n",
       "      <th>open</th>\n",
       "      <th>high</th>\n",
       "      <th>low</th>\n",
       "      <th>close</th>\n",
       "      <th>volume</th>\n",
       "      <th>returns</th>\n",
       "    </tr>\n",
       "  </thead>\n",
       "  <tbody>\n",
       "    <tr>\n",
       "      <th>4472485</th>\n",
       "      <td>2024-04-15 23:35:00</td>\n",
       "      <td>63310.0</td>\n",
       "      <td>63344.0</td>\n",
       "      <td>63231.0</td>\n",
       "      <td>63335.0</td>\n",
       "      <td>0.604391</td>\n",
       "      <td>-25.0</td>\n",
       "    </tr>\n",
       "    <tr>\n",
       "      <th>4472486</th>\n",
       "      <td>2024-04-15 23:40:00</td>\n",
       "      <td>63328.0</td>\n",
       "      <td>63452.0</td>\n",
       "      <td>63328.0</td>\n",
       "      <td>63438.0</td>\n",
       "      <td>3.441322</td>\n",
       "      <td>-110.0</td>\n",
       "    </tr>\n",
       "    <tr>\n",
       "      <th>4472487</th>\n",
       "      <td>2024-04-15 23:45:00</td>\n",
       "      <td>63458.0</td>\n",
       "      <td>63458.0</td>\n",
       "      <td>63342.0</td>\n",
       "      <td>63446.0</td>\n",
       "      <td>0.461111</td>\n",
       "      <td>12.0</td>\n",
       "    </tr>\n",
       "    <tr>\n",
       "      <th>4472488</th>\n",
       "      <td>2024-04-15 23:50:00</td>\n",
       "      <td>63431.0</td>\n",
       "      <td>63540.0</td>\n",
       "      <td>63386.0</td>\n",
       "      <td>63526.0</td>\n",
       "      <td>0.608069</td>\n",
       "      <td>-95.0</td>\n",
       "    </tr>\n",
       "    <tr>\n",
       "      <th>4472489</th>\n",
       "      <td>2024-04-15 23:55:00</td>\n",
       "      <td>63507.0</td>\n",
       "      <td>63508.0</td>\n",
       "      <td>63415.0</td>\n",
       "      <td>63438.0</td>\n",
       "      <td>0.961339</td>\n",
       "      <td>69.0</td>\n",
       "    </tr>\n",
       "  </tbody>\n",
       "</table>\n",
       "</div>"
      ],
      "text/plain": [
       "                   timestamp     open     high      low    close    volume  \\\n",
       "4472485  2024-04-15 23:35:00  63310.0  63344.0  63231.0  63335.0  0.604391   \n",
       "4472486  2024-04-15 23:40:00  63328.0  63452.0  63328.0  63438.0  3.441322   \n",
       "4472487  2024-04-15 23:45:00  63458.0  63458.0  63342.0  63446.0  0.461111   \n",
       "4472488  2024-04-15 23:50:00  63431.0  63540.0  63386.0  63526.0  0.608069   \n",
       "4472489  2024-04-15 23:55:00  63507.0  63508.0  63415.0  63438.0  0.961339   \n",
       "\n",
       "         returns  \n",
       "4472485    -25.0  \n",
       "4472486   -110.0  \n",
       "4472487     12.0  \n",
       "4472488    -95.0  \n",
       "4472489     69.0  "
      ]
     },
     "metadata": {},
     "output_type": "display_data"
    }
   ],
   "source": [
    "BTCUSD_df[\"returns\"] = BTCUSD_df[\"open\"]-BTCUSD_df[\"close\"]\n",
    "display(BTCUSD_df.head())\n",
    "display(BTCUSD_df.tail())"
   ]
  },
  {
   "cell_type": "markdown",
   "id": "bf9a0a17-25cc-482f-9942-430831bc87a9",
   "metadata": {},
   "source": [
    "Graphical Method"
   ]
  },
  {
   "cell_type": "code",
   "execution_count": 111,
   "id": "9447a508-a861-47db-9e4e-23fa8c5d9c63",
   "metadata": {},
   "outputs": [
    {
     "data": {
      "image/png": "[encoded data removed]",
      "text/plain": [
       "<Figure size 640x480 with 1 Axes>"
      ]
     },
     "metadata": {},
     "output_type": "display_data"
    }
   ],
   "source": [
    "plt.hist(BTCUSD_df[\"returns\"],bins=500)\n",
    "plt.xlabel(\"Returns\")\n",
    "plt.ylabel(\"Frequency\")\n",
    "plt.ylim(0,200000)\n",
    "plt.xlim(-1000,1000)\n",
    "mu, sigma = stats.laplace.fit(BTCUSD_df[\"returns\"])\n",
    "x = np.linspace(-150, 150, 250)\n",
    "y = stats.laplace.pdf(x, loc=mu, scale=sigma) * len(BTCUSD_df[\"returns\"]) * (x[1] - x[0])\n",
    "plt.plot(x, y, 'y--', linewidth=2)\n",
    "\n",
    "plt.show();"
   ]
  },
  {
   "cell_type": "markdown",
   "id": "6d0b9b31-e3b6-4174-8ba0-4167b4e1ce50",
   "metadata": {},
   "source": [
    "As seen by the plot above, the returns of Bitcoin USD conforms to the laplace distribution."
   ]
  },
  {
   "cell_type": "markdown",
   "id": "1a763a33-8001-443a-9b6f-ac6998f850f1",
   "metadata": {},
   "source": [
    "2. Test using Shapiro-Wilk normality test the Ethereum returns for trading data every five minutes, from August 7, 2015 to April 15, 2024."
   ]
  },
  {
   "cell_type": "code",
   "execution_count": null,
   "id": "7b99511f-0ded-401a-b344-9c82fb228bc4",
   "metadata": {},
   "outputs": [],
   "source": []
  }
 ],
 "metadata": {
  "kernelspec": {
   "display_name": "Python 3 (ipykernel)",
   "language": "python",
   "name": "python3"
  },
  "language_info": {
   "codemirror_mode": {
    "name": "ipython",
    "version": 3
   },
   "file_extension": ".py",
   "mimetype": "text/x-python",
   "name": "python",
   "nbconvert_exporter": "python",
   "pygments_lexer": "ipython3",
   "version": "3.12.3"
  }
 },
 "nbformat": 4,
 "nbformat_minor": 5
}
